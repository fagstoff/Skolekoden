{
 "cells": [
  {
   "cell_type": "markdown",
   "metadata": {},
   "source": [
    "# API - Programmeringsgrensesnitt\n",
    "__Creative Commons BY-SA : bitjungle (Rune Mathisen) og fuzzbin (Tom Jarle Christiansen)__\n",
    "\n",
    "<hr/>\n",
    "\n",
    "**For å få tilgang til data brukes et programmeringsgrensesnitt. Den vanligste forkortelsen for dette er API som betyr Aplication programming interface. Typiske bruksområder for et API er for å gi brukere og utviklere tilgang til spesifikke data i en organisasjon eller applikasjon.**\n",
    "\n",
    "Det finnes veldig mange typer data som kan hentes ut ved hjelp av et API. Dataene kommer på litt ulike formater. De vanligste er JSON, CSV og XML. Dette er ulike måter å organisere data på. Python har god støtte for å jobbe med de fleste ulike dataformater.\n",
    "\n",
    "Følgende eksempel henter data om den internasjonale romstasjonen (ISS) fra tjenesten [opennotify.org](http://open-notify.org/) på dataformatet JSON ved hjelp av pythonbiblioteket requests.\n"
   ]
  },
  {
   "cell_type": "code",
   "execution_count": 1,
   "metadata": {},
   "outputs": [
    {
     "name": "stdout",
     "output_type": "stream",
     "text": [
      "{'iss_position': {'latitude': '44.6529', 'longitude': '-57.5465'},\n",
      " 'message': 'success',\n",
      " 'timestamp': 1617575401}\n"
     ]
    }
   ],
   "source": [
    "import requests\n",
    "from pprint import pprint #Prettyprint for penere utskrift av JSON\n",
    "\n",
    "url = \"http://api.open-notify.org/iss-now.json\"\n",
    "r = requests.get(url).json()\n",
    "\n",
    "pprint(r)"
   ]
  },
  {
   "cell_type": "markdown",
   "metadata": {},
   "source": [
    "Utskriften viser rådata på JSON-format som i praksis er det vi kjenner som datatypen dictionary i Python. Vi kan når data ved å bruke notasjonen som vist i eksempelet under. Legg merke til at _lengde-_ og _breddegrad_ ligger på nivået under _iss_position_."
   ]
  },
  {
   "cell_type": "code",
   "execution_count": 2,
   "metadata": {},
   "outputs": [
    {
     "name": "stdout",
     "output_type": "stream",
     "text": [
      "Tidsmerke: 1617575401\n",
      "Lengdegrad: -57.5465\n",
      "Breddegrad: 44.6529\n"
     ]
    }
   ],
   "source": [
    "print(\"Tidsmerke:\", r[\"timestamp\"]) # Antall milisekunder siden 1.1.1970\n",
    "print(\"Lengdegrad:\", float(r[\"iss_position\"][\"longitude\"]))\n",
    "print(\"Breddegrad:\", float(r[\"iss_position\"][\"latitude\"]))"
   ]
  },
  {
   "cell_type": "markdown",
   "metadata": {},
   "source": [
    "Biblioteket [requests](https://requests.readthedocs.io/en/master/) har veldig mange mulgiheter. Det anbefales å lese litt på dokumentasjonen og prøve noen av mulighetene.\n",
    "\n",
    "## Endepunkter\n",
    "\n",
    "En vanlig måte å få tilgang til data ved hjelp av et API på er å bruke det som kalles endepunkter. Et endepunkt er en URL der man kan endre parameter for å få ønskede data."
   ]
  },
  {
   "cell_type": "code",
   "execution_count": 3,
   "metadata": {},
   "outputs": [
    {
     "name": "stdout",
     "output_type": "stream",
     "text": [
      "{'first': 'Mohammed', 'last': 'Reil', 'title': 'Mr'}\n",
      "{'first': 'سام', 'last': 'مرادی', 'title': 'Mr'}\n",
      "{'first': 'Ella', 'last': 'Jensen', 'title': 'Mrs'}\n",
      "{'first': 'Frederikke', 'last': 'Andersen', 'title': 'Mr'}\n",
      "{'first': 'Jimi', 'last': 'Pakkala', 'title': 'Mr'}\n",
      "{'first': 'اميرمحمد', 'last': 'احمدی', 'title': 'Mr'}\n",
      "{'first': 'Tristan', 'last': 'Larsen', 'title': 'Mr'}\n",
      "{'first': 'Logan', 'last': 'Legrand', 'title': 'Mr'}\n",
      "{'first': 'Jacob', 'last': 'Jensen', 'title': 'Mr'}\n",
      "{'first': 'Mason', 'last': 'Claire', 'title': 'Mr'}\n"
     ]
    }
   ],
   "source": [
    "\n",
    "payload = {'results': 10} # API-parameter. Returner 10 resultat\n",
    "\n",
    "url = 'https://randomuser.me/api/' # Endepunkt med parameter\n",
    "r = requests.get(url, params=payload).json()\n",
    "\n",
    "# pprint(r['results'][0]['name'])\n",
    "\n",
    "for person in r['results']:\n",
    "    pprint(person['name'])\n"
   ]
  },
  {
   "cell_type": "code",
   "execution_count": null,
   "metadata": {},
   "outputs": [],
   "source": []
  }
 ],
 "metadata": {
  "kernelspec": {
   "display_name": "Python 3",
   "language": "python",
   "name": "python3"
  },
  "language_info": {
   "codemirror_mode": {
    "name": "ipython",
    "version": 3
   },
   "file_extension": ".py",
   "mimetype": "text/x-python",
   "name": "python",
   "nbconvert_exporter": "python",
   "pygments_lexer": "ipython3",
   "version": "3.8.5"
  }
 },
 "nbformat": 4,
 "nbformat_minor": 2
}