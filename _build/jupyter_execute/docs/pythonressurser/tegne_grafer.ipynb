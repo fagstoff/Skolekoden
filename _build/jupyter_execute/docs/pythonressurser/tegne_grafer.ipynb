{
 "cells": [
  {
   "cell_type": "markdown",
   "metadata": {
    "slideshow": {
     "slide_type": "-"
    }
   },
   "source": [
    "# Tegne grafer\n",
    "__Creative Commons BY-SA : bitjungle (Rune Mathisen) og fuzzbin (Tom Jarle Christiansen)__\n",
    "\n",
    "<hr/>\n",
    "\n",
    "**Ofte ønskeler vi å representere matematiske modeller og funskjoner grafisk. I Python kan dette gjøres på flere måter. En veldig vanlig måte å gjøre dette på er å benytte seg av biblioteket [matplotlib](http://matplotlib.org/).**\n",
    "\n",
    "Prinsippet bak plotting i Python ligner veldig på metoden som brukes når man skal lage en grafisk fremstilling manuelt ved hjelp av en tabell. Før vi kan lage en graf, må dataene organisereres i lister. Vi skal se nærmere på $y=x^2$.\n",
    "\n",
    "|x|0|1|2|3|4|5|\n",
    "|-|-|-|-|-|-|-|\n",
    "|y|0|1|4|9|16|25|\n",
    "\n",
    "Hvert tallpar representerer ett punkt (x,y) i grafen. Det er derfor viktig at listene er like lange. Vi lager to lister med verdier som skal plottes:"
   ]
  },
  {
   "cell_type": "code",
   "execution_count": 1,
   "metadata": {},
   "outputs": [],
   "source": [
    "x_verdier = [0, 1, 2, 3, 4, 5]\n",
    "y_verdier = [0, 1, 4, 9, 16, 25]\n"
   ]
  },
  {
   "cell_type": "markdown",
   "metadata": {},
   "source": [
    "Det kan bli veldig arbeidskrevende og tungvindt å taste inn mange x- og y-verdier på denne måten. En enklere måte å gjøre det på, er å bruke det som kalles [List Comprehensions](https://docs.python.org/3/tutorial/datastructures.html#list-comprehensions). Da skriver vi slik:"
   ]
  },
  {
   "cell_type": "code",
   "execution_count": 2,
   "metadata": {
    "tags": []
   },
   "outputs": [
    {
     "name": "stdout",
     "output_type": "stream",
     "text": [
      "[0, 1, 2, 3, 4, 5]\n",
      "[0, 1, 4, 9, 16, 25]\n"
     ]
    }
   ],
   "source": [
    "x_verdier = [i for i in range(6)]\n",
    "y_verdier = [j**2 for j in x_verdier]\n",
    "\n",
    "print(x_verdier)\n",
    "print(y_verdier)"
   ]
  },
  {
   "cell_type": "markdown",
   "metadata": {},
   "source": [
    "Det er enda et alternativ til å lage x- og y-verdier til grafen, og det er ved å bruke biblioteket [numpy](https://numpy.org/). Da kan det gjøres slik: "
   ]
  },
  {
   "cell_type": "code",
   "execution_count": 3,
   "metadata": {
    "tags": []
   },
   "outputs": [],
   "source": [
    "import numpy\n",
    "\n",
    "def f(x):\n",
    "    return x**2\n",
    "\n",
    "x_verdier = numpy.linspace(0, 5, 6) # start, slutt, antall verdier\n",
    "y_verdier = f(x_verdier)"
   ]
  },
  {
   "cell_type": "markdown",
   "metadata": {},
   "source": [
    "Vi kan nå bruke biblioteket matplotlib i sin aller enkleste form til å skrive ut punktene vi har lagret i de to listene. Det gjør vi slik:"
   ]
  },
  {
   "cell_type": "code",
   "execution_count": 4,
   "metadata": {},
   "outputs": [
    {
     "data": {
      "image/png": "[encoded data removed]",
      "text/plain": [
       "<Figure size 432x288 with 1 Axes>"
      ]
     },
     "metadata": {
      "filenames": {
       "image/png": "/Users/fuzzbin/OneDrive - Vestfold og Telemark fylkeskommune/Fag/GitHub/Skolekoden/_build/jupyter_execute/docs/pythonressurser/tegne_grafer_7_0.png"
      },
      "needs_background": "light"
     },
     "output_type": "display_data"
    }
   ],
   "source": [
    "import matplotlib.pyplot as plt \n",
    "plt.plot(x_verdier, y_verdier)\n",
    "plt.show()"
   ]
  },
  {
   "cell_type": "markdown",
   "metadata": {},
   "source": [
    "Matplotlib er veldig fleksibelt, og det finnes mange kommandoer og argumenter som gjør at vi kan tilpasse plottet. I eksempelet under er det lagt inn noen fler kommandoer og argumenter. Argumentet `bx` markerer punktene som blå kryss, og med grid-kommandoen kan vi lage et rutenett som bakgrunn."
   ]
  },
  {
   "cell_type": "code",
   "execution_count": 5,
   "metadata": {},
   "outputs": [
    {
     "data": {
      "image/png": "[encoded data removed]",
      "text/plain": [
       "<Figure size 432x288 with 1 Axes>"
      ]
     },
     "metadata": {
      "filenames": {
       "image/png": "/Users/fuzzbin/OneDrive - Vestfold og Telemark fylkeskommune/Fag/GitHub/Skolekoden/_build/jupyter_execute/docs/pythonressurser/tegne_grafer_9_0.png"
      },
      "needs_background": "light"
     },
     "output_type": "display_data"
    }
   ],
   "source": [
    "plt.plot(x_verdier,y_verdier,'bx')\n",
    "plt.title('Enkelt plott')\n",
    "plt.grid(color='r', linestyle='-', linewidth=0.5)\n",
    "plt.xlabel('x-verdier')\n",
    "plt.ylabel('y-verdier')\n",
    "plt.show()"
   ]
  },
  {
   "cell_type": "markdown",
   "metadata": {},
   "source": [
    "## Oppgaver\n",
    "\n",
    "1. Lag en linær graf med stigningstall 2 og merk aksene.\n",
    "2. Tegn funksjonen $f(x)=-x^2+10x$ når $ x\\epsilon[0,10]$ i et koordinatsystem.\n",
    "3. Pynt oppgave 2 så fint du kan. Du kan finne inspirasjon i [eksempelgalleriet](https://matplotlib.org/gallery/index.html) til [Matplotlib](http://matplotlib.org/).\n",
    "4. Plott funksjonen $g(x)=2x-5$ i samme koordinatsystem."
   ]
  },
  {
   "cell_type": "code",
   "execution_count": null,
   "metadata": {},
   "outputs": [],
   "source": []
  }
 ],
 "metadata": {
  "celltoolbar": "Slideshow",
  "kernelspec": {
   "display_name": "Python 3",
   "language": "python",
   "name": "python3"
  },
  "language_info": {
   "codemirror_mode": {
    "name": "ipython",
    "version": 3
   },
   "file_extension": ".py",
   "mimetype": "text/x-python",
   "name": "python",
   "nbconvert_exporter": "python",
   "pygments_lexer": "ipython3",
   "version": "3.8.5"
  }
 },
 "nbformat": 4,
 "nbformat_minor": 2
}