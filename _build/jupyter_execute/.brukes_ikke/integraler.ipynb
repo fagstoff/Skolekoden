{
 "cells": [
  {
   "cell_type": "markdown",
   "metadata": {},
   "source": [
    "# Integral som areal\n",
    "\n",
    "__Creative Commons BY-SA : bitjungle (Rune Mathisen) og fuzzbin (Tom Jarle Christiansen)__\n",
    "\n",
    "<hr/>\n",
    "\n",
    "<img alt=\"Opphavsmann: 4C Lisens: Creative Commons Attribution-Share Alike 3.0 Unported\" style=\"float: right; margin-left: 10px;\" src=\"img/integral.png\">\n",
    "\n",
    "**Matematisk svarer beregning av flateinnholdet $S$ til integrasjon. Det arealet som begrenses ved x-aksen, to ordinater x = a og x = b og kurven y = f(x), er gitt ved det bestemte integral Kilde: [SNL](https://snl.no/areal)**\n",
    "\n",
    "Dette kan skrives som $$S = \\int_{a}^{b} f(x) dx$$"
   ]
  },
  {
   "cell_type": "markdown",
   "metadata": {},
   "source": [
    "## Numerisk beregning av arealet under en funksjon"
   ]
  },
  {
   "cell_type": "markdown",
   "metadata": {},
   "source": [
    "Arealet under en funksjon kan ha mange betydninger. I fysikk er arelet under en fartsgraf v(t) det samme som tilbakelagt strekning. Totallønn, strømforbruk m.m. er andre eksmepler.\n",
    "\n",
    "For å finne arealet under en funksjon uten å integrere kan vi bruke en teknikk som kalles Riemannsum. Den baserer seg på at vi lager mange rektangler med en fast bredde. Høyden på hvert enkelt rektangel tilsvarer funksjonsverdien. Hvis vi summerer arealet av alle rektanglene får vi en ganske god tilnærming av totalarealet under funksjonen. Hvis vi gjør bredden på hvert enkelt rektangel mindre får vi en bedre tilnærimg."
   ]
  },
  {
   "cell_type": "markdown",
   "metadata": {},
   "source": [
    "<img alt=\"Opphavsmann: Mestigoit Lisens: Creative Commons Attribution-Share Alike 3.0 Unported\" style=\"width: 200px; margin-left: 30px;\" src=\"img/Riemannsum_left.gif\">\n",
    "\n",
    "By <a href=\"//commons.wikimedia.org/wiki/User:09glasgow09\" title=\"User:09glasgow09\">09glasgow09</a> - <span class=\"int-own-work\" lang=\"en\">Own work</span>, <a href=\"https://creativecommons.org/licenses/by-sa/3.0\" title=\"Creative Commons Attribution-Share Alike 3.0\">CC BY-SA 3.0</a>, <a href=\"https://commons.wikimedia.org/w/index.php?curid=7697902\">Link</a>\n",
    "\n",
    "Når vi deler inn arealet under en funksjon på denne måten kalles det en Riemansum. Denne skrives slik: $$S = \\sum_{n=0}^n f(x_n) \\cdot \\Delta x$$\n",
    "\n",
    "Skal vi implementere dette i Pyhotn gjøres det ganske enkelt med koden under."
   ]
  },
  {
   "cell_type": "markdown",
   "metadata": {},
   "source": [
    "## Beregning av areal med Pyhotn\n",
    "\n",
    "La oss se på den enkle funksjonen $f(x)=x^2$ når $x\\in[0,5]$, og lage en utskrift av denne med Python som vist i eksempelet under."
   ]
  },
  {
   "cell_type": "code",
   "execution_count": 1,
   "metadata": {},
   "outputs": [
    {
     "data": {
      "image/png": "[encoded data removed]",
      "text/plain": [
       "<Figure size 432x288 with 1 Axes>"
      ]
     },
     "metadata": {
      "filenames": {
       "image/png": "/Users/fuzzbin/OneDrive - Vestfold og Telemark fylkeskommune/Fag/GitHub/Skolekoden/_build/jupyter_execute/.brukes_ikke/integraler_5_0.png"
      },
      "needs_background": "light"
     },
     "output_type": "display_data"
    }
   ],
   "source": [
    "import matplotlib.pyplot as plt\n",
    "import numpy as np\n",
    "\n",
    "# Deinerer funksjonen\n",
    "def f(x):\n",
    "    return x**2\n",
    "\n",
    "# Gjør klar listene for x- og y-verdier\n",
    "x_verdier = [] \n",
    "y_verdier = []\n",
    "\n",
    "# Fyller listene med verdier\n",
    "for x in np.arange(0,5,0.1):\n",
    "    x_verdier.append(x)\n",
    "    y_verdier.append(f(x))\n",
    "\n",
    "plt.plot(x_verdier, y_verdier, label='$f(x)=x^2$')\n",
    "plt.legend()\n",
    "plt.grid()\n",
    "plt.show()    "
   ]
  },
  {
   "cell_type": "markdown",
   "metadata": {},
   "source": [
    "Vi skal nå lage rektangler på samme måte som i figuerene over. Dette gjøres med koden under."
   ]
  },
  {
   "cell_type": "code",
   "execution_count": 2,
   "metadata": {},
   "outputs": [
    {
     "name": "stdout",
     "output_type": "stream",
     "text": [
      "Arealet under grafen er 35.625 enheter\n"
     ]
    }
   ],
   "source": [
    "# Beregner arealet under grafen numerisk.\n",
    "A = 0 # Initierer variabelen som skal inneholde totalarealet.\n",
    "dx = 0.5 # bredden på hvert rektangel\n",
    "\n",
    "for x in np.arange(0,5,dx): # -5 og 6 er definisjonsområdet\n",
    "    A += f(x) * dx # Legger til arealet av et nytt rektangel til totalarealet\n",
    "\n",
    "print(\"Arealet under grafen er {:.3f} enheter\".format(A))"
   ]
  },
  {
   "cell_type": "markdown",
   "metadata": {},
   "source": [
    "## Ulike måter å summere rektangler\n",
    "\n",
    "Ved å plassere rektanglene på litt ulike steder vil summeringen gi litt ulike resultat.\n",
    "\n",
    "\n",
    "Venstre | Høyre | Midt\n",
    ":-------------------------:|:-------------------------:|:-------------------------------:\n",
    "<img alt=\"Opphavsmann: Mestigoit Lisens: Creative Commons Attribution-Share Alike 3.0 Unported\" style=\"width: 200px; margin-left: 30px;\" src=\"img/Riemann-venstre.png\">  |  <img alt=\"Opphavsmann: Mestigoit Lisens: Creative Commons Attribution-Share Alike 3.0 Unported\" style=\"width: 200px; margin-left: 30px;\" src=\"img/Riemann-hoyre.png\"> | <img alt=\"Opphavsmann: Mestigoit Lisens: Creative Commons Attribution-Share Alike 3.0 Unported\" style=\"width: 200px; margin-left: 30px;\" src=\"img/Riemann-midt.png\">\n",
    "Qef [Public domain], <a href=\"https://commons.wikimedia.org/wiki/File:MidRiemann2.svg\">from Wikimedia Commons</a>\n",
    "\n",
    "\n",
    "### Venstresum\n",
    "\n",
    "Den enkleste Riemannsummeringen er en venstresum. Her vil øverste venstre hjørne på hvert rektangel være plassert på funksjonen.. Man ganger så denne med bredden dx. Fubnksjonen i eksenmpelet under er et venstresumareal for en funksjon $f(x)$ når $x\\in[a,b]$"
   ]
  },
  {
   "cell_type": "code",
   "execution_count": 3,
   "metadata": {},
   "outputs": [],
   "source": [
    "def A_v(f,a,b,dx):\n",
    "    A = 0\n",
    "    for x in np.arange(a,b,dx):\n",
    "        A += f(x) * dx\n",
    "    return A"
   ]
  },
  {
   "cell_type": "markdown",
   "metadata": {},
   "source": [
    "### Høyresum\n",
    "\n",
    "Denne metoden ligner veldig på venstresum, men i dette tilfellet vil øverste høyre hjørne på hvert rektangel plasseres på funksjonen. Koden i eksempelet under viser høyresumareal for en funksjon $f(x)$ når $x\\in[a,b]$"
   ]
  },
  {
   "cell_type": "code",
   "execution_count": 4,
   "metadata": {},
   "outputs": [],
   "source": [
    "def A_h(f,a,b,dx):\n",
    "    A = 0\n",
    "    for x in np.arange(a,b,dx):\n",
    "        A += f(x + dx) * dx\n",
    "    return A"
   ]
  },
  {
   "cell_type": "markdown",
   "metadata": {},
   "source": [
    "### Midtsum\n",
    "\n",
    "I denne metoden plasseres midten av topplinjen på hvert rektangel plasseres på funksjonen. Koden i eksempelet under viser midtsumareal for en funksjon $f(x)$ når $x\\in[a,b]$"
   ]
  },
  {
   "cell_type": "code",
   "execution_count": 5,
   "metadata": {},
   "outputs": [],
   "source": [
    "def A_m(f,a,b,dx):\n",
    "    A = 0\n",
    "    for x in np.arange(a,b,dx):\n",
    "        A += f(x + dx/2) * dx\n",
    "    return A"
   ]
  },
  {
   "cell_type": "markdown",
   "metadata": {},
   "source": [
    "## Oppgaver\n",
    "\n",
    "1. En husstands strømforbruk i antall kW gjennom et døgn er gitt ved funksjonen $f(t)=-0.003t^3+0.1t^2-0.7t+2$ for $t\\in[0,24]$ timer. Hva er husstandens totale strømforbruk i kWh dette døgnet? (Kilde: [nkhansen](https://www.nkhansen.com/category/matematikk/funksjoner/integrasjon/))\n",
    "\n",
    "2. Funksjonen $T(t)=3.2\\sin(0.3t-4.5)+10.5$ når $t\\in[0,24]$ er en modell for hvordan temperaturen endrer seg i løpet av et døgn et sted i Norge. Temperaturen $T$ er målt i °C, og $t$ er antall timer etter midnatt. Plot funksjonen $T(t)$, og bruk integrasjon til å finne gjennomsnittstemperaturen denne dagen. (Kilde: NDLA - R2 - [Oppgave 3.8.10](https://ndla.no/sites/default/files/r2_funksjoner_oppgaver_nb_02.12.2016.pdf) )\n",
    "\n",
    "3. Farten til en bil er gitt ved funksjonen $v(t)=-4\\cdot\\left(\\frac{t}{1000}\\right)^3 + \\frac{t}{50}$ for $t\\in[0,2250]$. Finn tilbakelagt strekning i det samme intervallet. Beskriv bevegelsen til bilen.\n",
    "\n",
    "4. Regn ut arealet under funksjonen $f(x)=x^2$ når $x\\in[0,5]$ med venstre-,høyre- og midtpunktssummereing. Hver deloppgave skal løses tre ganger med rektangelbredder (dx) på 1, 0.1 og 0.001. Skriv ned resultatene. Hva ser du?\n",
    "\n",
    "5. Regn ut arealet under funksjonen $f(x)=x^2$ når $x\\in[-5,0]$ med venstre-,høyre- og midtpunktssummereing. Hver deloppgave skal løses tre ganger med rektangelbredder (dx) på 1, 0.1 og 0.001. Skriv ned resultatene. Hva ser du? Sammenlikn resultatene med oppgave 4."
   ]
  },
  {
   "cell_type": "code",
   "execution_count": null,
   "metadata": {},
   "outputs": [],
   "source": []
  }
 ],
 "metadata": {
  "kernelspec": {
   "display_name": "Python 3",
   "language": "python",
   "name": "python3"
  },
  "language_info": {
   "codemirror_mode": {
    "name": "ipython",
    "version": 3
   },
   "file_extension": ".py",
   "mimetype": "text/x-python",
   "name": "python",
   "nbconvert_exporter": "python",
   "pygments_lexer": "ipython3",
   "version": "3.8.5"
  }
 },
 "nbformat": 4,
 "nbformat_minor": 2
}