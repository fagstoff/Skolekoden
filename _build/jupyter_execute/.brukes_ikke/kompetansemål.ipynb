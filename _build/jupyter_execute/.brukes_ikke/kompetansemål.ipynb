{
 "cells": [
  {
   "cell_type": "markdown",
   "metadata": {},
   "source": [
    "# Kompetansemål fra førsteutkastet til ny læreplan i matematikk som inneholdt ordet programmering\n",
    "\n",
    "## Grunnskolen\n",
    "4. trinn - Lage program som følger trinnvise instruksjoner\n",
    "5. trinn - Lage et program som inneholdere sløyfer\n",
    "6. trinn - Lage et program som inneholder rotasjoner\n",
    "7. trinn - Lage program knytta til vilkår, aleine og sammen med andre\n",
    "8. trinn - bruke programmering i utforsking av variabler og funksjoner\n",
    "9. trinn - Identifisere problemer og utforme mulige løsninger som grunnlag for å lage en kode som en datamaskin kan forstå. Systematisk feilsøke i og forbedre denne koden og dokumentere løsninga på en forståelig måte.\n",
    "\n",
    "<hr>\n",
    "\n",
    "## Videregående skole\n",
    "* VG1 T - Lage program som løser ligninger numerisk, aleine og sammen med andre.\n",
    "* VG2 S - Lage programmer som simulerer stokastiske variable\n",
    "* VG2 R - Bruke programmering til å undersøke gyldigheten av hypoteser.\n",
    "* VG2 R - Bruke programmering til å gjøre beregninger og utforske egenskapene til funksjoner.\n",
    "* VG3 S - Bruke programmering til å utforske rekusrsive sammengenger og presentere egne fremgangsmåter.\n",
    "* VG3 S - Skrive programmer som beregner bestemte integraler tilnærmet ved å bruke  Riemansummer\n",
    "* VG3 S - bruke programmering i utforsking av stokastiske variable\n",
    "* VG3 R - Bruke programmering til å utforske rekusrsive sammengenger og presentere egne fremgangsmåter.\n",
    "* VG3 R - Skrive programmer som beregner bestemte integraler tilnærmet ved å bruke Riemansummer og kunne forklare programmene for andre"
   ]
  },
  {
   "cell_type": "code",
   "execution_count": null,
   "metadata": {},
   "outputs": [],
   "source": []
  }
 ],
 "metadata": {
  "kernelspec": {
   "display_name": "Python 3",
   "language": "python",
   "name": "python3"
  },
  "language_info": {
   "codemirror_mode": {
    "name": "ipython",
    "version": 3
   },
   "file_extension": ".py",
   "mimetype": "text/x-python",
   "name": "python",
   "nbconvert_exporter": "python",
   "pygments_lexer": "ipython3",
   "version": "3.8.5"
  }
 },
 "nbformat": 4,
 "nbformat_minor": 2
}