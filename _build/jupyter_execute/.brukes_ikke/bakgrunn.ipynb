{
 "cells": [
  {
   "cell_type": "markdown",
   "metadata": {},
   "source": [
    "# Programmering i matematikk og naturfag etter fagfornyelsen.\n",
    "\n",
    "I det første utkastet til læreplaner for matematikk og naturfag var ordet programmering eksplisitt nevnt i [veldig mange kompetansemål](./kompetansemål.ipynb). \n",
    "\n",
    "I [høringsutkastet](https://www.udir.no/laring-og-trivsel/lareplanverket/fagfornyelsen/horing-nye-lareplaner/) som ble publisert 18. mars 2019 var dette fjernet fra de aller fleste måla. Slik vi tolker det nye utkastet til læreplan betyr det **ikke** at programmeringens plass i fagene er redusert, heller tvert i mot. Det begrunnes med kjerneelementenes rolle i fagfornyelsen. Der kan vi lese at: *Kjerneelementa i matematikk (T/P/S/R) rammar inn det viktigaste innhaldet i faget og beskriv det elevane må lære for å kunne meistre og bruke faget.* I kjerneelementet **Utforsking og problemløysing** kan vi bl.a. lese at: *Algoritmisk tenking er viktig i prosessen med å utvikle strategiar og framgangsmåtar for å løyse problem.*\n",
    "\n",
    "I det siste utkastet som er oversendt Kunnskapsdepartementet kan vi lese det som sannsynligvis er [nært opp mot endelig versjon av læreplanene](https://www.udir.no/laring-og-trivsel/lareplanverket/fagfornyelsen/oppsummeringer-av-7000-horingssvar-om-nye-lareplaner/). Igjen er programmering som begrepp tatt inn og nevnt eksplisitt i større grad enn i forrige høringsutkast.\n",
    "\n",
    "På dette grunnlag tolker vi det dithen at det er helt avgjørende at elever (og lærere) har kunnskap og kompetanse om [algoritmisk tenkning](https://no.wikipedia.org/wiki/Algoritmisk_tenkning). Dette betyr selvfølgelig ikke at alle kompetansemål skal kodes, men programmering er en sentral teknikk for å løse problemer på denne måten."
   ]
  },
  {
   "cell_type": "code",
   "execution_count": null,
   "metadata": {},
   "outputs": [],
   "source": []
  }
 ],
 "metadata": {
  "file_extension": ".py",
  "language_info": {
   "codemirror_mode": {
    "name": "ipython",
    "version": 3
   },
   "file_extension": ".py",
   "mimetype": "text/x-python",
   "name": "python",
   "nbconvert_exporter": "python",
   "pygments_lexer": "ipython3",
   "version": "3.8.5"
  },
  "mimetype": "text/x-python",
  "name": "python",
  "npconvert_exporter": "python",
  "pygments_lexer": "ipython3",
  "version": 3
 },
 "nbformat": 4,
 "nbformat_minor": 2
}