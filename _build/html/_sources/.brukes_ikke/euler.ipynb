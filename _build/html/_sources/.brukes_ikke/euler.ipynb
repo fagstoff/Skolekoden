{
 "cells": [
  {
   "cell_type": "markdown",
   "metadata": {},
   "source": [
    "# Eulers metode\n",
    "__Creative Commons BY-SA : bitjungle (Rune Mathisen) og fuzzbin (Tom Jarle Christiansen)__\n",
    "\n",
    "<hr/>\n",
    "<img alt=\"Opphavsmann: Mestigoit Lisens: Creative Commons BY-SA 3.0 Unported\" title=\"Opphavsmann: Stefan Walkowski Lisens: Creative Commons BY-SA 4.0 Unported\" style=\"width: 200px; float: right; margin-left: 30px;\" src=\"img/Euler.png\">\n",
    "\n",
    "__[Eulers metode](https://en.wikipedia.org/wiki/Euler_method) er en algoritme for å finne numeriske løsninger til [ordinære differensialligninger](https://en.wikipedia.org/wiki/Ordinary_differential_equation). I naturvitenskapen beskriver slike likninger som oftest en størrelse og endringen av denne størrelsen over tid. Eksempler på dette kan være populasjonsvekst i en bakteriekultur eller fartsendring til et objekt som faller i et gravitsjonsfelt. Eulers metode brukes for å finne [numeriske løsninger](https://no.wikipedia.org/wiki/Numerisk_analyse)  på slike problemer når du kjenner en initialverdi.__\n",
    "\n",
    "> Denne siden dekker helt eller delvis kompetansemålene: [????](????)"
   ]
  },
  {
   "cell_type": "markdown",
   "metadata": {},
   "source": [
    "<img alt=\"Opphavsmann: Mestigoit Lisens: Creative Commons BY-SA 3.0 Unported\" title=\"Opphavsmann: Mestigoit Lisens: Creative Commons BY-SA 3.0 Unported\" style=\"width: 200px; float: right; margin-left: 30px;\" src=\"img/Mycobacterium_smegmatis.jpg\">\n",
    "\n",
    "Som et generelt utgangspunkt for Eulers metode antar vi at vi har en ordinær differensiallikning på formen:\n",
    "\n",
    "$$ y' = f(x,y) $$\n",
    "\n",
    "I dette eksemplet tenker vi oss at vi har en funksjon $y$ (som vi ikke vet hvordan ser ut) og differensiallikningen $ y' = y $ (som beskriver hvordan systemet endrer seg). Vi har i tillegg initialbetingelsen $ y(0) = 1 $. Dette kan for eksempel være en beskrivelse av eksponentiell vekst i en bakteriekultur, hvor vi vet antall bakterier vi starter med ved tidspunktet $ t = 0 $.\n",
    "\n",
    "Vi ønsker nå å bruke Eulers metode for å finne denne verdien numerisk. For å få til dette må vi starte et sted som vi vet noe om. I dette tilfellet bruker vi initialbetingelsen $ y(0) = 1 $, og starter derifra. Vi må også bestemme oss for en $ \\Delta t $ som er hvor store \"skritt\" vi skal ta mellom hver beregning.\n",
    "\n",
    "<div style=\"border: solid thin; font-weight: bold; margin: 1em; padding: 1em;\">\n",
    "Med Eulers metode kan vi simulere hvordan et system oppfører seg over tid, selv om vi ikke har en matematisk funksjon som beskriver systemet. Grunnprinsippet er at hver nye verdi beregnes med utgangspunkt i den forrige.</div>\n",
    "\n",
    "Vi tar utgangspunkt i $ y' = y $, og skriver $y'$ som $\\Delta y / \\Delta t$:\n",
    "\n",
    "$$ \\frac{\\Delta y}{\\Delta t} = y_n $$\n",
    "\n",
    "Her er $\\Delta y$ forskjellen mellom nåværende og neste y-verdi, når vi har beveget oss med tidsskrittet $\\Delta t$.  Vi kan skrive det som:\n",
    "\n",
    "$$ \\frac{y_{n+1} - y_n}{\\Delta t} = y_n $$\n",
    "\n",
    "Vi gjør om slik at vi får et uttrykk for neste y-verdi:\n",
    "\n",
    "$$ y_{n+1} = y_n + \\Delta t \\cdot y_n $$\n",
    "\n",
    "Vi skal nå regne ut $y'(0)$ med utgangspunkt i initialbetingelsen. Vi vet at $y'= y$ og $y(0) = 1$. Dette betyr at $y'(0)=1$.\n",
    "\n",
    "Neste skritt er å øke $t$ med $\\Delta t$ og regne ut en gang til. Vi lar $\\Delta t = 1$\n",
    "\n",
    "$$y(1) = y(0) + \\Delta t \\cdot y(0) = 1 + 1 \\cdot 1 = 2$$\n",
    "\n",
    "Vi kan nå bruke dette resultatet til å regne ut neste verdi:\n",
    "$$y(2) = y(1) + \\Delta t \\cdot y(1) = 2 + 1 \\cdot 2 = 4$$\n",
    "\n",
    "Slik kan vi fortsette helt til vi har regnet ut $y(5)$ som i tabellen under.\n",
    "\n",
    "|$t$ |$y$ |$y'$|\n",
    "|:--:|:--:|:--:|\n",
    "|0|1|1|\n",
    "|1|2|2|\n",
    "|2|4|4|\n",
    "|3|8|8|\n",
    "|4|16|16|\n",
    "|5|32|32|\n",
    "\n",
    "<img alt=\"Opphavsmann: bitjungle Lisens: Creative Commons CC0\" title=\"Opphavsmann: bitjungle Lisens: Creative Commons CC0\" style=\"margin-left: 30px; width: 75%;\" src=\"img/euler_illustrasjon_2.png\">\n",
    "\n",
    "I dette eksemplet har vi ikke sagt noe om hvordan funksjonen $y$ ser ut. Det er en eksponentialfunksjon $e^x$. Siden vi her kjenner den virkelige funksjonen, kan vi sammenlikne våre numeriske tilnærminger med de virkelige verdiene. Startverdien $y_0$ er en konstant som multipliseres med eksponentialfunksjonen."
   ]
  },
  {
   "cell_type": "code",
   "execution_count": 6,
   "metadata": {},
   "outputs": [
    {
     "data": {
      "image/png": "[encoded data removed]",
      "text/plain": [
       "<Figure size 432x288 with 1 Axes>"
      ]
     },
     "metadata": {
      "needs_background": "light"
     },
     "output_type": "display_data"
    }
   ],
   "source": [
    "# Importerer nødvendige biblioteker\n",
    "import matplotlib.pyplot as plt\n",
    "import numpy as np\n",
    "\n",
    "# Initialbetingelser\n",
    "y0 = 1\n",
    "delta_t = 0.5\n",
    "\n",
    "# For hvilken t skal beregningene stoppe?\n",
    "max_t = 6\n",
    "\n",
    "# Eksakt løsning (Blå linje)\n",
    "def A(x):\n",
    "    return np.exp(x)\n",
    "\n",
    "# Eulers metode for denne spesifikke problemstillingen\n",
    "def neste_y():\n",
    "    return ye[-1] + ye[-1] * delta_t\n",
    "\n",
    "# Klargjør lister for eksakt løsninig\n",
    "t = [0]\n",
    "y = [y0]\n",
    "\n",
    "# Klargjør lister for Eulerberegninger\n",
    "te = [0]\n",
    "ye = [y0]\n",
    "\n",
    "# Løkke som fyller listene med data\n",
    "for x in np.arange(0, max_t, delta_t):\n",
    "    # Eksakte verdier\n",
    "    t.append(t[-1] + delta_t)\n",
    "    y.append(A(x))\n",
    "    #Euler\n",
    "    te.append(t[-1] + delta_t)\n",
    "    ye.append(neste_y())\n",
    "\n",
    "# Utskrift av data\n",
    "plt.grid() # Lager rutenett\n",
    "plt.xlabel('$t$') # Merker x-aksen\n",
    "plt.ylabel('$A(t)$') # Merker y-aksen\n",
    "plt.plot(t, y, label='$f(x)=e^x$')\n",
    "plt.plot(te, ye, label='Euler med $\\Delta t={}$'.format(delta_t))\n",
    "plt.legend()\n",
    "plt.show()"
   ]
  },
  {
   "cell_type": "markdown",
   "metadata": {},
   "source": [
    "## Oppsummering\n",
    "\n",
    "Gitt at vi har en førsteordens lineær differensiallikning:\n",
    "\n",
    "$$ \\frac{dy}{dx} = f(x,y) $$\n",
    "\n",
    "Vi har også gitt initialbetingelsene: \n",
    "\n",
    "$$ y(x_0) = y_0 $$\n",
    "\n",
    "Vi bestemmer oss for en \"skrittlengde\" $\\Delta x$ som er avstanden mellom hvert nye estimat vi beregner med Eulers metode. En liten $\\Delta x$ gir mer presise estimater, men \"koster mer\" i form av mange beregninger som må utføres. Med Eulers metode kan vi nå finne estimater for neste x og y:\n",
    "\n",
    "$$ x_{n+1} = x_n + \\Delta x $$\n",
    "$$ y_{n+1} = y_n + \\Delta x \\cdot f(x_n,y_n) $$"
   ]
  },
  {
   "cell_type": "markdown",
   "metadata": {},
   "source": [
    "## Oppgaver\n",
    "\n",
    "1. Ta utgangspunkt i eksempelet over. Endre på step-verdien $\\Delta x$, gjør den gradvis mindre og mindre (la den nærme seg 0). Hva observerer du?\n",
    "2. Kan du løse differensiallikningen $\\frac{dy}{dx}=x+2y$ numerisk når $y(0)=0$? Bruk $\\Delta x = 0.1$. Finn eksakt løsning med f.eks [Wolfram Alpha](http://www.wolframalpha.com), og sammenlign med funksjonen du kommer frem til.\n",
    "3. En realistisk [modell for luftmotstand](https://snl.no/luftmotstand) kan være $L = k \\cdot v^2$. Lag et program som beregner $v(t)$ ved hjelp av Eulers metode når du vet at $ \\sum F = G - L $. (Hint: Husk at $F = m \\cdot a = m \\cdot v'$)\n",
    "4. Lag et program som viser hvordan en bakteriekultur vokser når vi starter med $20 $ bakterier ved tiden $t=0$ s. Populasjonen dobles hver time. Hva er populasjonen etter 7 timer, og når vil populasjonen nå $1 \\cdot 10^6$ bakterier.\n",
    "5. Lag et program som bruker Eulers metode på en annen modell som du velger selv."
   ]
  },
  {
   "cell_type": "code",
   "execution_count": null,
   "metadata": {
    "collapsed": true
   },
   "outputs": [],
   "source": []
  }
 ],
 "metadata": {
  "kernelspec": {
   "display_name": "Python 3",
   "language": "python",
   "name": "python3"
  },
  "language_info": {
   "codemirror_mode": {
    "name": "ipython",
    "version": 3
   },
   "file_extension": ".py",
   "mimetype": "text/x-python",
   "name": "python",
   "nbconvert_exporter": "python",
   "pygments_lexer": "ipython3",
   "version": "3.7.1"
  }
 },
 "nbformat": 4,
 "nbformat_minor": 2
}
