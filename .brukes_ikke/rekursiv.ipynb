{
 "cells": [
  {
   "cell_type": "markdown",
   "metadata": {},
   "source": [
    "# Rekursiv programmering\n",
    "\n",
    "__Creative Commons BY-SA : bitjungle (Rune Mathisen) og fuzzbin (Tom Jarle Christiansen)__\n",
    "\n",
    "<hr/>\n",
    "<img alt=\"Opphavsmann: Mestigoit Lisens: Creative Commons BY-SA 3.0 Unported\" title=\"Opphavsmann: Stefan Walkowski Lisens: Creative Commons BY-SA 4.0 Unported\" style=\"width: 200px; float: right; margin-left: 30px;\" src=\"img/Simple_Fractals.png\">\n",
    "\n",
    "\n",
    "Bilde av <a href=\"//commons.wikimedia.org/w/index.php?title=User:Saisundar.s&amp;action=edit&amp;redlink=1\" class=\"new\" title=\"User:Saisundar.s (page does not exist)\">Saisundar.s</a> - <span class=\"int-own-work\" lang=\"en\">Own work</span>, <a href=\"https://creativecommons.org/licenses/by-sa/4.0\" title=\"Creative Commons Attribution-Share Alike 4.0\">CC BY-SA 4.0</a>, <a href=\"https://commons.wikimedia.org/w/index.php?curid=73877448\">Link</a>\n",
    "\n",
    "**[Rekursjon](https://no.wikipedia.org/wiki/Rekursjon), eller rekursiv funksjon, er i matematikk og informatikk en måte å definere en funksjon på, der funksjonen selv blir anvendt i sin egen definisjon.**\n",
    "\n",
    "I programmering og matematikk brukes rekursjon når man skal bygge videre på resultater som er beregnet på samme måte. Dette kan være en tallfølge der hvert nye ledd beregnes med utgangspunkt i det forrige. Dette kan for eksempel være en [aritmetiske tallfølge](https://ndla.no/nb/node/115341?fag=98361):\n",
    "\n",
    "$$a_n = a_{n-1} + d$$\n",
    "\n",
    "Her vil hvert ledd være lik det forrige pluss en differanse $d$\n",
    "\n",
    "La oss si at $a_n=1$ og $d=7$. Vi kan nå beregne neste ledd $a_{n+1} = a_n + d = 1 + 7 = 8$\n",
    "\n",
    "Skal vi gjøre dette for hånd kreves det mange regneoperasjoner. (Eller ved bruk av [eksplisitt formel](https://ndla.no/nb/node/115335?fag=98361)). En datamaskin kan fint regne rekursivt.\n",
    "\n",
    "### Eksempel på rekursiv formel\n",
    "\n",
    "Vi lar $a_1 = 1$ og $d = 3$, Vi skal nå regne ut $a_{87}$."
   ]
  },
  {
   "cell_type": "code",
   "execution_count": 3,
   "metadata": {},
   "outputs": [
    {
     "name": "stdout",
     "output_type": "stream",
     "text": [
      "259\n"
     ]
    }
   ],
   "source": [
    "def rekursiv(n, d):\n",
    "    if n == 1:\n",
    "        return 1\n",
    "    else:\n",
    "        return rekursiv(n-1, d) + d\n",
    "\n",
    "print(rekursiv(87,3))"
   ]
  },
  {
   "cell_type": "markdown",
   "metadata": {},
   "source": [
    "### Eksempel på beregning av fakultet"
   ]
  },
  {
   "cell_type": "code",
   "execution_count": 4,
   "metadata": {},
   "outputs": [],
   "source": [
    "def fakultet(n):\n",
    "    if n == 1:\n",
    "        return 1\n",
    "    else:\n",
    "        return n * fakultet(n - 1)"
   ]
  },
  {
   "cell_type": "code",
   "execution_count": 2,
   "metadata": {},
   "outputs": [
    {
     "name": "stdout",
     "output_type": "stream",
     "text": [
      "120\n"
     ]
    }
   ],
   "source": [
    "print(fakultet(5))"
   ]
  },
  {
   "cell_type": "markdown",
   "metadata": {},
   "source": [
    "### Eksempel på beregning av Fibonaccitall"
   ]
  },
  {
   "cell_type": "code",
   "execution_count": 7,
   "metadata": {},
   "outputs": [],
   "source": [
    "def fibonacci(n):\n",
    "    if n == 0:\n",
    "        return 0\n",
    "    elif n == 1:\n",
    "        return 1\n",
    "    else:\n",
    "        return fibonacci(n - 1) + fibonacci(n - 2)"
   ]
  },
  {
   "cell_type": "code",
   "execution_count": 10,
   "metadata": {},
   "outputs": [
    {
     "name": "stdout",
     "output_type": "stream",
     "text": [
      "21\n"
     ]
    }
   ],
   "source": [
    "print(fibonacci(8))"
   ]
  },
  {
   "cell_type": "code",
   "execution_count": null,
   "metadata": {},
   "outputs": [],
   "source": []
  }
 ],
 "metadata": {
  "kernelspec": {
   "display_name": "Python 3",
   "language": "python",
   "name": "python3"
  },
  "language_info": {
   "codemirror_mode": {
    "name": "ipython",
    "version": 3
   },
   "file_extension": ".py",
   "mimetype": "text/x-python",
   "name": "python",
   "nbconvert_exporter": "python",
   "pygments_lexer": "ipython3",
   "version": "3.6.4"
  }
 },
 "nbformat": 4,
 "nbformat_minor": 2
}
