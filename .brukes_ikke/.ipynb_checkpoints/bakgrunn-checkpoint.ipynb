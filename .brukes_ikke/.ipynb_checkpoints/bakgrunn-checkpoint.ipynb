{
 "cells": [
  {
   "cell_type": "markdown",
   "metadata": {},
   "source": [
    "# Programmering i matematikk og naturfag etter fagfornyelsen.\n",
    "\n",
    "I det første utkastet til læreplaner for matematikk og naturfag var ordet programmering eksplisitt nevnt i [veldig mange kompetansemål](./kompetansemål.ipynb). \n",
    "\n",
    "I [høringsutkastet](https://www.udir.no/laring-og-trivsel/lareplanverket/fagfornyelsen/horing-nye-lareplaner/) som ble publisert 18. mars 2019 var dette fjernet fra de aller fleste måla. Slik vi tolker det nye utkastet til læreplan betyr det **ikke** at programmeringens plass i fagene er redusert, heller tvert i mot. Det begrunnes med kjerneelementenes rolle i fagfornyelsen. Der kan vi lese at: *Kjerneelementa i matematikk (T/P/S/R) rammar inn det viktigaste innhaldet i faget og beskriv det elevane må lære for å kunne meistre og bruke faget.* I kjerneelementet **Utforsking og problemløysing** kan vi bl.a. lese at: *Algoritmisk tenking er viktig i prosessen med å utvikle strategiar og framgangsmåtar for å løyse problem.*\n",
    "\n",
    "På dette grunnlag tolker vi det dithen at det er helt avgjørende at elever (og lærere) har kunnskap og kompetanse om [algoritmisk tenkning](https://no.wikipedia.org/wiki/Algoritmisk_tenkning). Dette betyr selvfølgelig ikke at alle kompetansemål skal kodes, men programmering er en sentral teknikk for å løse problemer på denne måten."
   ]
  }
 ],
 "metadata": {
  "kernelspec": {
   "display_name": "Python 3",
   "language": "python",
   "name": "python3"
  },
  "language_info": {
   "codemirror_mode": {
    "name": "ipython",
    "version": 3
   },
   "file_extension": ".py",
   "mimetype": "text/x-python",
   "name": "python",
   "nbconvert_exporter": "python",
   "pygments_lexer": "ipython3",
   "version": "3.7.1"
  }
 },
 "nbformat": 4,
 "nbformat_minor": 2
}
