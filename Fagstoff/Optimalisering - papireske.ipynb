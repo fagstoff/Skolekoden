{
 "cells": [
  {
   "cell_type": "markdown",
   "metadata": {},
   "source": [
    "# Optimalisering - papireske\n",
    "\n",
    "__Creative Commons BY-SA : bitjungle (Rune Mathisen) og fuzzbin (Tom Jarle Christiansen)__\n",
    "\n",
    "<hr/>\n",
    "<img alt=\"Opphavsmann: Fawn Nguyen Lisens: Creative Commons BY\" title=\"Opphavsmann: Fawn Nguyen Lisens: Creative Commons BY\" style=\"width: 400px; float: right; margin-left: 30px;\" src=\"img/papirboks.png\">\n",
    "\n",
    "__Hva er det største volumet som er mulig å lage av et A4-ark når du bretter opp sidene, sånn at du får en eske? Det er ikke helt opplagt hva svaret er, med det er flere måter å finne løsningen på. Er du klar for utfordringa?__\n",
    "\n",
    "Denne problemstillinga er et typisk ingeniørproblem. Hvordan kan du best utnytte materialet du har tilgjengelig? Vi skal se på tre mulige måter å løse dette problemet.\n",
    "\n",
    "I utgangspunktet trenger du egentlig bare en enkel formel for å løse problemet. Volumet av en rett prisme er gitt ved:\n",
    "\n",
    "$$ V = lengde \\cdot bredde \\cdot høyde $$\n",
    "\n",
    "Det er også greit å vite lengden og bredden på et A4-ark. Du kan godt måle, men standardmålene er en lengde på 2,97 dm og en bredde på 2,1 dm. Det er greit å bruke dm som enhet, for da kan du regne ut volumet til esken i liter."
   ]
  },
  {
   "cell_type": "markdown",
   "metadata": {},
   "source": [
    "## Prøve og feile\n",
    "\n",
    "En mulig løsningsstrategi er å prøve og feile. Du prøver rett og slett å brette en eske, og så måler og regner du ut. Slik fortsetter du så lenge du orker. Det kan hende at metoden fører frem, men det er tidkrevende, du må kanskje bruke en del ark og du må ha litt flaks. La oss forsøke.\n",
    "\n",
    "Jeg prøver meg med tre ulike høyder på kantene, lav, middels og høy. Det er kanskje ikke helt opplagt at kanthøyden på lengden og bredden må være like høye, men ulike sidehøyder betyr bortkastet materiale. Tenk litt over det.\n",
    "\n",
    "Det er ikke tilfeldig at jeg prøver tre ulike høyder. Planen videre er å velge en ny sidehøyde som ligger midt mellom det høyeste og nest høyeste resultatet, og så fortsette på samme måte inntil jeg har funnet et maksimum. Jeg prøver meg med 0,1 dm, 0,5 dm og 1,0 dm. Jeg bretter, måler og regner ut:\n",
    "\n",
    "$$ V = lengde \\cdot bredde \\cdot høyde $$\n",
    "\n",
    "$$V_1 = 2,8 \\cdot 1,9 \\cdot 0,1 \\approx 0,5\\ \\mathrm{liter}$$\n",
    "$$V_2 = 2,0 \\cdot 1,1 \\cdot 0,5 \\approx 1,1\\ \\mathrm{liter}$$\n",
    "$$V_3 = 1,0 \\cdot 0,1 \\cdot 1,0 \\approx 0,1\\ \\mathrm{liter}$$\n",
    "\n",
    "Det ser ut til at $0,5 \\mathrm{dm}$ gir det største volumet, men for sikkerhets skyld bretter jeg nå et ark med høyde som ligger midt mellom 0,1 dm og 0,5 dm. Jeg måler og regner ut det nye volumet:\n",
    "\n",
    "$$V_4 = 2,4 \\cdot 1,5 \\cdot 0,3 \\approx 1,1\\ \\mathrm{liter}$$\n",
    "\n",
    "Oi, det ble samme volum som da jeg valgte en høyde på 0,5 dm! For sikkerhets skyld bretter jeg nå et ark med kanthøyde på 0,4 dm. Jeg måler og regner ut igjen:\n",
    "\n",
    "$$V_5 = 2,2 \\cdot 1,3 \\cdot 0,4 \\approx 1,1\\ \\mathrm{liter}$$\n",
    "\n",
    "Det ble omtrent det samme, så jeg konkluderer med at det vi får det største volumet med kanthøyde mellom 0,3 dm og 0,5 dm.\n"
   ]
  },
  {
   "cell_type": "markdown",
   "metadata": {},
   "source": [
    "## Prøve og feile med datamaskin\n",
    "\n",
    "Det går fint å simulere brettingen i et dataprogram. Fordelen med dette er at det går raskt, og at jeg slipper å bruke masse ark. Men før vi går i gang, må vi tenke litt over sammenhengen mellom lengde, bredde og høyde for esken. Se nøye på denne figuren:\n",
    "\n",
    "<img alt=\"Opphavsmann: Rune Mathisen Lisens: Creative Commons BY\" title=\"Opphavsmann: Rune Mathisen Lisens: Creative Commons BY\" style=\"width: 400px;\" src=\"img/papirboks_abx.png\">\n",
    "\n",
    "Arealet A for grunnflaten til esken er:\n",
    "\n",
    "$$ A = lengde \\cdot bredde $$\n",
    "\n",
    "Vi må finne uttrykk for lengde og bredde til grunnflata i esken som funksjon av kanthøyden x:\n",
    "\n",
    "$$ lengde = 2.97 - 2x $$\n",
    "$$ bredde = 2.1 - 2x $$\n",
    "\n",
    "Er du usikker på om det er riktig, så se på figuren igjen. Prøv gjerne å brette en test-eske også. Stemmer det? \n",
    "\n",
    "Nå kan vi finne arealet av grunnflaten som funksjon av kanthøyden:\n",
    "\n",
    "$$ A(x)=(2.97−2x) \\cdot (2.1−2x) $$\n",
    "\n",
    "Volumet V til esken er da gitt ved:\n",
    "\n",
    "$$ V(x) = A(x) \\cdot x $$\n",
    "\n",
    "$$ V(x) = (2.97 - 2x) \\cdot (2.1 - 2x) \\cdot x $$\n",
    "\n",
    "Siden den simulerte brettinga av ark er raskt og billig, bestemmer vi oss for å brette alle mulige ark mellom 0 og maksimale høyden på esken med steg på 0,01 dm. Det blir over hundre ark! Her er et forslag til hvordan beregningen kan gjøres:"
   ]
  },
  {
   "cell_type": "code",
   "execution_count": 10,
   "metadata": {},
   "outputs": [
    {
     "name": "stdout",
     "output_type": "stream",
     "text": [
      "Kanthøyden  0.4042 dm gir volumet  1.1285 liter\n"
     ]
    }
   ],
   "source": [
    "A4_LENGDE = 2.97    # Lengden til et A4-ark (dm)\n",
    "A4_BREDDE = 2.1     # Bredden til et A4-ark (dm)\n",
    "X_MAX = A4_BREDDE/2 # Maksimal kanthøyde\n",
    "dx = 0.0001     # Endring i kanthøyde for hvert nye forsøk (dm)\n",
    "x = dx          # Startverdi for kanthøyde\n",
    "volum_max = 0.0 # Største beregnede volum, setter den til 0 i utgangspunktet\n",
    "x_max = 0.0     # Tilhørende kanthøyde til største beregnede volum\n",
    "\n",
    "\n",
    "# Vi definerer en funksjon for beregning av volumet til esken\n",
    "def beregn_volum(x):\n",
    "    return (A4_LENGDE - 2*x) * (A4_BREDDE - 2*x) * x\n",
    "\n",
    "# Nå lager vi en loop som beregner alle mulige volumer med steglengde dx\n",
    "while x < X_MAX:     \n",
    "    volum = beregn_volum(x) # Regner ut volumet med kanthøyden x\n",
    "    if (volum > volum_max): # Har vi regnet ut et større volum enn vi hadde fra før?\n",
    "        volum_max = volum   # Ny rekord! Vi lagrer dette volumet\n",
    "        x_max = x           # Vi lagrer den tilhørende x-verdien også\n",
    "    x = x + dx # Regner ut neste kanthøyde x og looper tilbake til while...\n",
    "\n",
    "# Nå er vi ute av loopen, da har vi regnet ut alle mulige volumer. Hvem vant?\n",
    "print(\"Kanthøyden \", round(x_max, 4), \"dm gir volumet \", round(volum_max, 4), \"liter\")\n",
    "\n",
    "\n",
    "\n",
    "\n"
   ]
  },
  {
   "cell_type": "markdown",
   "metadata": {},
   "source": [
    "## Algebraisk løsning\n",
    "\n",
    "Vi kan også løse dette problemet algebraisk, og starter igjen med å se på figuren arket vi bretter:\n",
    "\n",
    "<img alt=\"Opphavsmann: Rune Mathisen Lisens: Creative Commons BY\" title=\"Opphavsmann: Rune Mathisen Lisens: Creative Commons BY\" style=\"width: 400px;\" src=\"img/papirboks_abx.png\">\n",
    "\n",
    "Arealet A for grunnflaten til esken er:\n",
    "\n",
    "$$ A = lengde \\cdot bredde $$\n",
    "\n",
    "På samme måte som dataprogram-løsningen må vi også her finne uttrykk for lengde og bredde som funksjon av kanthøyden x:\n",
    "\n",
    "$$ lengde = 2.97 - 2x $$\n",
    "$$ bredde = 2.1 - 2x $$\n",
    "\n",
    "$$ A(x)=(2.97 − 2x) \\cdot (2.1 − 2x) $$\n",
    "\n",
    "Volumet V til esken er da gitt ved:\n",
    "\n",
    "$$ V(x) = A(x) \\cdot x $$\n",
    "\n",
    "$$ V(x) = (2.97 - 2x) \\cdot (2.1 - 2x) \\cdot x $$\n",
    "\n",
    "Når vi løste problemet med et dataprogram, stoppet vi her. Nå skal vi gå litt videre i utregninga. La oss først utføre multiplikasjonen:\n",
    "\n",
    "$$ V(x) =  4x^{3} - 10.14x^{2} + 6.237x $$\n",
    "\n",
    "Det neste vi skal gjøre, er å finne den deriverte til funksjonen:\n",
    "\n",
    "$$ V'(x) = 12x^{2} - 20.28x + 6.237 $$\n",
    "\n",
    "Til slutt setter vi $V'(x) = 0$ for å finne ekstramalpunktene til funksjonen. La oss løse den i Geogebra:\n",
    "\n",
    "<img alt=\"Opphavsmann: Rune Mathisen Lisens: Creative Commons BY\" title=\"Opphavsmann: Rune Mathisen Lisens: Creative Commons BY\" style=\"width: 400px;\" src=\"img/papirboks_cas.png\">\n",
    "\n",
    "Vi får to svar, men $ x \\approx 1.29$ er større enn den største mulige kanthøyden. Dermed kan vi konkludere med at $ x \\approx 0.4$ er den optimale løsningen på problemet."
   ]
  },
  {
   "cell_type": "code",
   "execution_count": null,
   "metadata": {},
   "outputs": [],
   "source": []
  }
 ],
 "metadata": {
  "kernelspec": {
   "display_name": "Python 3",
   "language": "python",
   "name": "python3"
  },
  "language_info": {
   "codemirror_mode": {
    "name": "ipython",
    "version": 3
   },
   "file_extension": ".py",
   "mimetype": "text/x-python",
   "name": "python",
   "nbconvert_exporter": "python",
   "pygments_lexer": "ipython3",
   "version": "3.7.0"
  }
 },
 "nbformat": 4,
 "nbformat_minor": 2
}
