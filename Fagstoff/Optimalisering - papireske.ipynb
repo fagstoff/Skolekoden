{
 "cells": [
  {
   "cell_type": "markdown",
   "metadata": {},
   "source": [
    "# Optimalisering - papireske\n",
    "\n",
    "__Creative Commons BY-SA : bitjungle (Rune Mathisen) og fuzzbin (Tom Jarle Christiansen)__\n",
    "\n",
    "<hr/>\n",
    "<img alt=\"Opphavsmann: Fawn Nguyen Lisens: Creative Commons BY\" title=\"Opphavsmann: Fawn Nguyen Lisens: Creative Commons BY\" style=\"width: 400px; float: right; margin-left: 30px;\" src=\"img/papirboks.png\">\n",
    "\n",
    "__Hva er det største volumet som er mulig å lage av et A4-ark når du bretter opp sidene, sånn at du får en eske? Det er ikke helt opplagt hva svaret er, med det er flere måter å finne løsningen på. Er du klar for utfordringa?__\n",
    "\n",
    "Denne problemstillinga er et typisk ingeniørproblem. Hvordan kan du best utnytte materialet du har tilgjengelig? Vi skal se på tre mulige måter å løse dette problemet.\n",
    "\n",
    "I utgangspunktet trenger du egentlig bare en enkel formel for å løse problemet. Volumet av en rett prisme er gitt ved:\n",
    "\n",
    "$$ V = a \\cdot b \\cdot x $$\n",
    "\n",
    "hvor $a$ er lengden til grunnflaten, $b$ er bredden og $x$ er høyden til prismen.\n",
    "\n",
    "Det er også greit å vite lengden og bredden på et A4-ark. Du kan godt måle, men standardmålene er en lengde på 2,97 dm og en bredde på 2,1 dm. Det er greit å bruke dm som enhet, for da kan du regne ut volumet til esken i liter."
   ]
  },
  {
   "cell_type": "markdown",
   "metadata": {},
   "source": [
    "## Prøve og feile\n",
    "\n",
    "En mulig løsningsstrategi er å prøve og feile. Du prøver rett og slett å brette en eske, og så måler og regner du ut. Slik fortsetter du så lenge du orker. Det kan hende at metoden fører frem, men det er tidkrevende, du må kanskje bruke en del ark og du må ha litt flaks. La oss forsøke.\n",
    "\n",
    "Jeg prøver meg med tre ulike høyder på kantene, lav, middels og høy. Det er kanskje ikke helt opplagt at kanthøyden på lengden og bredden må være like høye, men ulike sidehøyder betyr bortkastet materiale. Tenk litt over det.\n",
    "\n",
    "Det er ikke tilfeldig at jeg prøver tre ulike høyder. Planen videre er å velge en ny sidehøyde som ligger midt mellom det høyeste og nest høyeste resultatet, og så fortsette på samme måte inntil jeg har funnet et maksimum. Jeg prøver meg med 0,1 dm, 0,5 dm og 1,0 dm. Jeg bretter, måler og regner ut:\n",
    "\n",
    "$$V_1 = 2,8 \\cdot 1,9 \\cdot 0,1 \\approx 0,5\\ \\mathrm{liter}$$\n",
    "$$V_2 = 2,0 \\cdot 1,1 \\cdot 0,5 \\approx 1,1\\ \\mathrm{liter}$$\n",
    "$$V_3 = 1,0 \\cdot 0,1 \\cdot 1,0 \\approx 0,1\\ \\mathrm{liter}$$\n",
    "\n",
    "Det ser ut til at $0,5 \\mathrm{dm}$ gir det største volumet, men for sikkerhets skyld bretter jeg nå et ark med høyde som ligger midt mellom 0,1 dm og 0,5 dm. Jeg måler og regner ut det nye volumet:\n",
    "\n",
    "$$V_4 = 2,4 \\cdot 1,5 \\cdot 0,3 \\approx 1,1\\ \\mathrm{liter}$$\n",
    "\n",
    "Oi, det ble samme volum som da jeg valgte en høyde på 0,5 dm! For sikkerhets skyld bretter jeg nå et ark med kanthøyde på 0,4 dm. Jeg måler og regner ut igjen:\n",
    "\n",
    "$$V_5 = 2,2 \\cdot 1,3 \\cdot 0,4 \\approx 1,1\\ \\mathrm{liter}$$\n",
    "\n",
    "Det ble omtrent det samme, så jeg konkluderer med at det vi får det største volumet med kanthøyde mellom 0,3 dm og 0,5 dm.\n"
   ]
  },
  {
   "cell_type": "markdown",
   "metadata": {},
   "source": [
    "## Prøve og feile med datamaskin\n",
    "\n",
    "Det går fint å simulere brettingen i et dataprogram, og fordelen med det er at det går raskt og at jeg slipper å bruke masse ark. Men før vi går i gang, må vi tenke litt over sammenhengen mellom lengde, bredde og høyde for esken. Se nøye på denne figuren:\n",
    "\n",
    "<img alt=\"Opphavsmann: Rune Mathisen Lisens: Creative Commons BY\" title=\"Opphavsmann: Rune Mathisen Lisens: Creative Commons BY\" style=\"width: 400px;\" src=\"img/papirboks_abx.png\">\n",
    "\n",
    "Dersom $x$ er høyden, så må lengde $a$ og bredde $b$ være:\n",
    "\n",
    "$$a = 2.97 - 2x$$\n",
    "$$b = 2.1 - 2x$$\n",
    "\n",
    "Er du usikker på om det er riktig, så se på figuren igjen. Prøv gjerne å brette en test-eske også. Stemmer det?\n",
    "\n",
    "Fra før vet vi at volumet av esken er:\n",
    "\n",
    "$$ V = a \\cdot b \\cdot x $$\n",
    "\n",
    "Siden den simulerte brettinga av ark er raskt og billig, bestemmer vi oss for å brette alle mulige ark mellom 0 og 1 med steg på 0,01 dm. Den maksimale høyden på esken må være mindre enn halvparten av bredden på arket. Her er et forslag til hvordan beregningen kan gjøres:"
   ]
  },
  {
   "cell_type": "code",
   "execution_count": 4,
   "metadata": {},
   "outputs": [
    {
     "name": "stdout",
     "output_type": "stream",
     "text": [
      "x = 0.4  gir volumet V = 1.1284\n"
     ]
    }
   ],
   "source": [
    "A = 2.97    # Lengden til et A4-ark\n",
    "B = 2.1     # Bredden til et A4-ark\n",
    "X_MAX = B/2 # Maksimal kanthøyde\n",
    "dx = 0.01   # Endring i kanthøyde for hvert nye forsøk\n",
    "x = [0]     # Liste med alle kanthøyder vi har forsøkt\n",
    "V = [0]     # Liste med alle beregnede volumer\n",
    "\n",
    "def beregn_volum(x):\n",
    "    return (A - 2*x) * (B - 2*x) * x\n",
    "    \n",
    "while x[-1] < X_MAX:\n",
    "    x.append(x[-1] + dx)\n",
    "    V.append(beregn_volum(x[-1]))\n",
    "\n",
    "V_MAX = max(V)\n",
    "V_MAX_X = x[V.index(V_MAX)]\n",
    "print(\"x =\", round(V_MAX_X, 4), \" gir volumet V =\", round(V_MAX, 4))\n"
   ]
  },
  {
   "cell_type": "markdown",
   "metadata": {},
   "source": [
    "## Algebraisk løsning\n",
    "\n",
    "Tekst kommer."
   ]
  },
  {
   "cell_type": "markdown",
   "metadata": {},
   "source": [
    "$$ A = a \\cdot b $$\n",
    "\n",
    "$$ a = 2.97 - 2x $$\n",
    "$$ b = 2.1 - 2x $$\n",
    "\n",
    "$$ A(x)=(2.97−2x)(2.1−2x) $$\n",
    "\n",
    "\n",
    "$$ V = A(x) \\cdot x $$\n",
    "\n",
    "$$ V(x) = (2.97−2x)(2.1−2x)x $$\n",
    "\n",
    "$$ V(x) =  4x^{3} - 10.14x^{2} + 6.237x $$\n",
    "\n",
    "$$ V'(x) = 12x^{2} - 20.28x + 6.237 $$\n",
    "\n",
    "<img alt=\"Opphavsmann: Rune Mathisen Lisens: Creative Commons BY\" title=\"Opphavsmann: Rune Mathisen Lisens: Creative Commons BY\" style=\"width: 400px;\" src=\"img/papirboks_cas.png\">\n"
   ]
  },
  {
   "cell_type": "code",
   "execution_count": null,
   "metadata": {},
   "outputs": [],
   "source": []
  }
 ],
 "metadata": {
  "kernelspec": {
   "display_name": "Python 3",
   "language": "python",
   "name": "python3"
  },
  "language_info": {
   "codemirror_mode": {
    "name": "ipython",
    "version": 3
   },
   "file_extension": ".py",
   "mimetype": "text/x-python",
   "name": "python",
   "nbconvert_exporter": "python",
   "pygments_lexer": "ipython3",
   "version": "3.7.0"
  }
 },
 "nbformat": 4,
 "nbformat_minor": 2
}
