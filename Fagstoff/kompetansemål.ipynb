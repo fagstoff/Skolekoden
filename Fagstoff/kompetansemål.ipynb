{
 "cells": [
  {
   "cell_type": "markdown",
   "metadata": {},
   "source": [
    "# Programmering i matematikk og naturfag etter fagfornyelsen.\n",
    "\n",
    "I det første utkastet til læreplanee for matematikk og naturfag var ordet programmering eksplisitt nevnt i veldig mange kompetansemål. \n",
    "\n",
    "## Grunnskolen\n",
    "4. trinn - Lage program som følger trinnvise instruksjoner\n",
    "5. trinn - Lage et program som inneholdere sløyfer\n",
    "6. trinn - Lage et program som inneholder rotasjoner\n",
    "7. trinn - Lage program knytta til vilkår, aleine og sammen med andre\n",
    "8. trinn - bruke programmering i utforsking av variabler og funksjoner\n",
    "9. trinn - Identifisere problemer og utforme mulige løsninger som grunnlag for å lage en kode som en datamaskin kan forstå. Systematisk feilsøke i og forbedre denne koden og dokumentere løsninga på en forståelig måte.\n",
    "\n",
    "<hr>\n",
    "\n",
    "## Videregående skole\n",
    "* VG1 T - Lage program som løser ligninger numerisk, aleine og sammen med andre.\n",
    "* VG2 S - Lage programmer som simulerer stokastiske variable\n",
    "* VG2 R - Bruke programmering til å undersøke gyldigheten av hypoteser.\n",
    "* VG2 R - Bruke programmering til å gjøre beregninger og utforske egenskapene til funksjoner.\n",
    "* VG3 S - Bruke programmering til å utforske rekusrsive sammengenger og presentere egne fremgangsmåter.\n",
    "* VG3 S - Skrive programmer som beregner bestemte integraler tilnærmet ved å bruke  Riemansummer\n",
    "* VG3 S - bruke programmering i utforsking av stokastiske variable\n",
    "* VG3 R - Bruke programmering til å utforske rekusrsive sammengenger og presentere egne fremgangsmåter.\n",
    "* VG3 R - Skrive programmer som beregner bestemte integraler tilnærmet ved å bruke Riemansummer og kunne forklare programmene for andre\n",
    "\n",
    "\n",
    "I [høringsutkastet](https://www.udir.no/laring-og-trivsel/lareplanverket/fagfornyelsen/horing-nye-lareplaner/) som ble publisert 18. mars 2019 var dette fjernet fra de aller fleste måla. Slik vi tolker det nye utkastet til læreplan betyr det **ikke** at programmeringens plass i fagene er redusert, heller tvert i mot. Det begrunnes med kjerneelementenes rolle i fagfornyelsen. Der kan vi lese at: *Kjerneelementa i matematikk (T/P/S/R) rammar inn det viktigaste innhaldet i faget og beskriv det elevane må lære for å kunne meistre og bruke faget.* I kjerneelementet **Utforsking og problemløysing** kan vi bl.a. lese at: *Algoritmisk tenking er viktig i prosessen med å utvikle strategiar og framgangsmåtar for å løyse problem.*\n",
    "\n",
    "På dette grunnlag tolker vi det dithen at det er helt avgjørende at elever (og lærere) har kunnskap og kompetanse om [algoritmisk tenkning](https://no.wikipedia.org/wiki/Algoritmisk_tenkning). Dette betyr selvfølgelig ikke at alle kompetansemål skal kodes, men programmering er en sentral teknikker og metoder for å løse problemer."
   ]
  },
  {
   "cell_type": "code",
   "execution_count": null,
   "metadata": {},
   "outputs": [],
   "source": []
  }
 ],
 "metadata": {
  "kernelspec": {
   "display_name": "Python 3",
   "language": "python",
   "name": "python3"
  },
  "language_info": {
   "codemirror_mode": {
    "name": "ipython",
    "version": 3
   },
   "file_extension": ".py",
   "mimetype": "text/x-python",
   "name": "python",
   "nbconvert_exporter": "python",
   "pygments_lexer": "ipython3",
   "version": "3.7.1"
  }
 },
 "nbformat": 4,
 "nbformat_minor": 2
}
