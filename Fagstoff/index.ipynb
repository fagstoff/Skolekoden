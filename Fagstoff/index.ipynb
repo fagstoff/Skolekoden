{
 "cells": [
  {
   "cell_type": "markdown",
   "metadata": {},
   "source": [
    "# Skolekoden\n",
    "\n",
    "<hr/>\n",
    "<img alt=\"Opphavsmann: j4p4n: Creative Commons BY-SA 3.0 Unported\" title=\"Opphavsmann: j4p4n: Creative Commons BY-SA 3.0 Unported - https://openclipart.org/detail/308848/computer-programer\" style=\"width: 200px; float: right; margin-left: 30px;\" src=\"img/programmering.png\">\n",
    "\n",
    "Velkommen til Skolekoden! Dette er et todelt kurs med mål om å: \n",
    "\n",
    "1. gi en innføring i programmering med [Python](https://www.python.org/)\n",
    "2. vise praktiske løsninger med [algoritmisk tekning i matematikk og naturfag.](./bakgrunn.ipynb)\n",
    "\n",
    "Kurset er laget med programvaren [Jupyter Notebooks](https://jupyter.org/), et system der fagtekster, interaktiv kode og oppgaver er samlet i ett og samme dokument. Før du starter med kurset, må du [komme i gang med Microsoft Azure Notebooks](https://github.com/fagstoff/Python-intro/blob/acd67b459a0a1178c138cbae775fa8aa942e4365/Fagstoff/sett-opp-azure-notebooks.ipynb) eller eventuelt [sette opp et Python programmeringsmiljø](https://github.com/fagstoff/Python-intro/blob/acd67b459a0a1178c138cbae775fa8aa942e4365/Fagstoff/sett-opp-progmiljo.ipynb) (for eksperter).\n",
    "\n",
    "\n",
    "## Del 1 - Grunnleggende programmering\n",
    "\n",
    "1. [Hallo verden](https://github.com/fagstoff/Python-intro/blob/master/Fagstoff/helloWorld.ipynb)\n",
    "2. [Variabler](https://github.com/fagstoff/Python-intro/blob/master/Fagstoff/variabler.ipynb)\n",
    "3. [Kontrollstrukturer](https://github.com/fagstoff/Python-intro/blob/master/Fagstoff/kontrollstrukturer.ipynb)\n",
    "4. [Funksjoner](https://github.com/fagstoff/Python-intro/blob/master/Fagstoff/funksjoner.ipynb)\n",
    "5. [Moduler og biblioteker](https://github.com/fagstoff/Python-intro/blob/master/Fagstoff/moduler%20og%20biblioteker.ipynb)\n",
    "5. [Tegning av grafer](https://github.com/fagstoff/Python-intro/blob/master/Fagstoff/matplotlib.ipynb)\n",
    "6. [Kodekommentarer og dokumentasjon](https://github.com/fagstoff/Python-intro/blob/master/Fagstoff/kodekommentarer.ipynb)\n",
    "7. [Lag et enkelt spill](https://github.com/fagstoff/Python-intro/blob/master/Fagstoff/lag%20et%20enkelt%20spill.ipynb)\n",
    "\n",
    "\n",
    "## Del 2 - Programmering i matematikk\n",
    "\n",
    "+ [Derivasjon](derivasjon.ipynb)\n",
    "+ [Optimalisering](optimalisering.ipynb)\n",
    "+ [Rekursjon](rekursiv.ipynb)\n",
    "+ [Likninger](likninger.ipynb)\n",
    "+ [Vektorregning](vektorregning.ipynb)\n",
    "+ [Populasjonsmodeller](populasjonsmodeller.ipynb)\n",
    "+ [Integralregning](integraler.ipynb)\n",
    "+ [Euler](euler.ipynb)\n",
    "\n",
    "Ressursene er laget av [bitjungle](https://github.com/bitjungle) og [fuzzbin](https://github.com/fuzzbin), og kan brukes fritt av alle. Lisens: [Creative Commons - BY SA](https://creativecommons.org/licenses/by-sa/4.0/no/legalcode)"
   ]
  },
  {
   "cell_type": "code",
   "execution_count": null,
   "metadata": {},
   "outputs": [],
   "source": []
  }
 ],
 "metadata": {
  "kernelspec": {
   "display_name": "Python 3",
   "language": "python",
   "name": "python3"
  },
  "language_info": {
   "codemirror_mode": {
    "name": "ipython",
    "version": 3
   },
   "file_extension": ".py",
   "mimetype": "text/x-python",
   "name": "python",
   "nbconvert_exporter": "python",
   "pygments_lexer": "ipython3",
   "version": "3.7.1"
  }
 },
 "nbformat": 4,
 "nbformat_minor": 2
}
