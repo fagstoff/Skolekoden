{
 "cells": [
  {
   "cell_type": "markdown",
   "metadata": {},
   "source": [
    "# Skolekoden\n",
    "\n",
    "<hr/>\n",
    "<img alt=\"Opphavsmann: j4p4n: Creative Commons BY-SA 3.0 Unported\" title=\"Opphavsmann: j4p4n: Creative Commons BY-SA 3.0 Unported - https://openclipart.org/detail/308848/computer-programer\" style=\"width: 200px; float: right; margin-left: 30px;\" src=\"img/programmering.png\">\n",
    "\n",
    "Velkommen til Skolekoden! Dette er et todelt kurs med mål om å: \n",
    "\n",
    "1. gi en innføring i programmering med [Python](https://www.python.org/)\n",
    "2. vise praktiske løsninger til [kompetansemål i matematikk som krever programmering](kompetansemål.ipynb)\n",
    "\n",
    "Kurset er laget med programvaren [Jupyter Notebooks](https://jupyter.org/), et system der fagtekster, interaktiv kode og oppgaver er samlet i ett og samme dokument. \n",
    "\n",
    "Det er ikke nødvendig i installere noe programvare for å gjennomføre kurset. Du kan sette i gang å bruke Jupyter direkte i nettleseren din med [Microsoft Azure Notebooks](https://notebooks.azure.com/). Før du begynner, må du logge deg på. De fleste fylkeskommuner bruker Office 365. Da kan du bruke det samme brukernavnet og passordet når du [logger deg på Azure Notebooks](https://notebooks.azure.com/account/signin#). \n",
    "\n",
    "\n",
    "\n",
    "## Del 1 - Grunnleggende programmering\n",
    "\n",
    "1. [Hallo verden](https://github.com/fagstoff/Python-intro/blob/master/Fagstoff/helloWorld.ipynb)\n",
    "2. [Variabler](https://github.com/fagstoff/Python-intro/blob/master/Fagstoff/variabler.ipynb)\n",
    "3. [Kontrollstrukturer](https://github.com/fagstoff/Python-intro/blob/master/Fagstoff/kontrollstrukturer.ipynb)\n",
    "4. [Funksjoner](https://github.com/fagstoff/Python-intro/blob/master/Fagstoff/funksjoner.ipynb)\n",
    "5. [Moduler og biblioteker](moduler%20og%20biblioteker.ipynb)\n",
    "5. [Tegning av grafer](https://github.com/fagstoff/Python-intro/blob/master/Fagstoff/matplotlib.ipynb)\n",
    "6. [Kodekommentarer og dokumentasjon](https://github.com/fagstoff/Python-intro/blob/master/Fagstoff/kodekommentarer.ipynb)\n",
    "7. [Lag et enkelt spill](https://github.com/fagstoff/Python-intro/blob/master/Fagstoff/lag%20et%20enkelt%20spill.ipynb)\n",
    "\n",
    "\n",
    "## Del 2 - Programmering i matematikk\n",
    "\n",
    "+ [Derivasjon](derivasjon.ipynb)\n",
    "+ [Optimalisering](optimalisering.ipynb)\n",
    "+ [Rekursjon](rekursiv.ipynb)\n",
    "+ [Likninger](likninger.ipynb)\n",
    "+ [Vektorregning](vektorregning.ipynb)\n",
    "+ [Populasjonsmodeller](populasjonsmodeller.ipynb)\n",
    "+ [Integralregning](integraler.ipynb)\n",
    "+ [Euler](euler.ipynb)\n",
    "\n",
    "Ressursene er laget av [bitjungle](https://github.com/bitjungle) og [fuzzbin](https://github.com/fuzzbin), og kan brukes fritt av alle. Lisens: [Creative Commons - BY SA](https://creativecommons.org/licenses/by-sa/4.0/no/legalcode)"
   ]
  },
  {
   "cell_type": "code",
   "execution_count": null,
   "metadata": {},
   "outputs": [],
   "source": []
  }
 ],
 "metadata": {
  "kernelspec": {
   "display_name": "Python 3",
   "language": "python",
   "name": "python3"
  },
  "language_info": {
   "codemirror_mode": {
    "name": "ipython",
    "version": 3
   },
   "file_extension": ".py",
   "mimetype": "text/x-python",
   "name": "python",
   "nbconvert_exporter": "python",
   "pygments_lexer": "ipython3",
   "version": "3.7.0"
  }
 },
 "nbformat": 4,
 "nbformat_minor": 2
}
